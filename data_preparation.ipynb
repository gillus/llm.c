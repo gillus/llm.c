{
 "cells": [
  {
   "cell_type": "code",
   "execution_count": 1,
   "id": "52ecb7e3-a2f3-4283-8d12-c34be99ddf1e",
   "metadata": {},
   "outputs": [],
   "source": [
    "import glob\n",
    "import json\n",
    "from tqdm import tqdm\n",
    "import os\n",
    "import json\n",
    "import pandas as pd\n",
    "import re\n",
    "import polars as pl"
   ]
  },
  {
   "cell_type": "markdown",
   "id": "d2d06419-80dc-4c9b-80e4-e46ad7a8c740",
   "metadata": {},
   "source": [
    "# Exploring FineWeb Edu"
   ]
  },
  {
   "cell_type": "code",
   "execution_count": 2,
   "id": "98976e78-aa91-43c9-8079-74d8df9f804d",
   "metadata": {},
   "outputs": [
    {
     "data": {
      "text/html": [
       "<div><style>\n",
       ".dataframe > thead > tr,\n",
       ".dataframe > tbody > tr {\n",
       "  text-align: right;\n",
       "  white-space: pre-wrap;\n",
       "}\n",
       "</style>\n",
       "<small>shape: (5, 11)</small><table border=\"1\" class=\"dataframe\"><thead><tr><th>text</th><th>id</th><th>dump</th><th>url</th><th>date</th><th>file_path</th><th>language</th><th>language_score</th><th>token_count</th><th>score</th><th>int_score</th></tr><tr><td>str</td><td>str</td><td>str</td><td>str</td><td>str</td><td>str</td><td>str</td><td>f64</td><td>i64</td><td>f64</td><td>i64</td></tr></thead><tbody><tr><td>&quot;This project is solving the As…</td><td>&quot;&lt;urn:uuid:6c17be7f-7253-4703-a…</td><td>&quot;CC-MAIN-2024-51&quot;</td><td>&quot;http://2014.spaceappschallenge…</td><td>&quot;2024-12-01T17:43:40Z&quot;</td><td>&quot;s3://commoncrawl/crawl-data/CC…</td><td>&quot;en&quot;</td><td>0.914297</td><td>825</td><td>2.96875</td><td>3</td></tr><tr><td>&quot;Life of a Sand Grain\n",
       "THE LIFE …</td><td>&quot;&lt;urn:uuid:17e4ca7f-a10a-461b-8…</td><td>&quot;CC-MAIN-2024-51&quot;</td><td>&quot;http://blog.azgs.arizona.edu/i…</td><td>&quot;2024-12-01T18:24:12Z&quot;</td><td>&quot;s3://commoncrawl/crawl-data/CC…</td><td>&quot;en&quot;</td><td>0.959785</td><td>2344</td><td>3.546875</td><td>4</td></tr><tr><td>&quot;The internet of things, a syst…</td><td>&quot;&lt;urn:uuid:6e9f6c85-2d16-4f82-b…</td><td>&quot;CC-MAIN-2024-51&quot;</td><td>&quot;http://codetechsolutions.co.uk…</td><td>&quot;2024-12-01T17:12:59Z&quot;</td><td>&quot;s3://commoncrawl/crawl-data/CC…</td><td>&quot;en&quot;</td><td>0.931961</td><td>270</td><td>3.484375</td><td>3</td></tr><tr><td>&quot;An archive photo of an Egyptia…</td><td>&quot;&lt;urn:uuid:47064b08-fcce-4923-9…</td><td>&quot;CC-MAIN-2024-51&quot;</td><td>&quot;http://en.aswatmasriya.com/new…</td><td>&quot;2024-12-01T17:42:22Z&quot;</td><td>&quot;s3://commoncrawl/crawl-data/CC…</td><td>&quot;en&quot;</td><td>0.961632</td><td>367</td><td>2.75</td><td>3</td></tr><tr><td>&quot;The faith of the Christ-God is…</td><td>&quot;&lt;urn:uuid:e9c8abb4-8d22-4031-a…</td><td>&quot;CC-MAIN-2024-51&quot;</td><td>&quot;http://faithandheritage.com/20…</td><td>&quot;2024-12-01T18:21:21Z&quot;</td><td>&quot;s3://commoncrawl/crawl-data/CC…</td><td>&quot;en&quot;</td><td>0.958506</td><td>2450</td><td>2.6875</td><td>3</td></tr></tbody></table></div>"
      ],
      "text/plain": [
       "shape: (5, 11)\n",
       "┌───────────┬───────────┬───────────┬───────────┬───┬───────────┬───────────┬──────────┬───────────┐\n",
       "│ text      ┆ id        ┆ dump      ┆ url       ┆ … ┆ language_ ┆ token_cou ┆ score    ┆ int_score │\n",
       "│ ---       ┆ ---       ┆ ---       ┆ ---       ┆   ┆ score     ┆ nt        ┆ ---      ┆ ---       │\n",
       "│ str       ┆ str       ┆ str       ┆ str       ┆   ┆ ---       ┆ ---       ┆ f64      ┆ i64       │\n",
       "│           ┆           ┆           ┆           ┆   ┆ f64       ┆ i64       ┆          ┆           │\n",
       "╞═══════════╪═══════════╪═══════════╪═══════════╪═══╪═══════════╪═══════════╪══════════╪═══════════╡\n",
       "│ This      ┆ <urn:uuid ┆ CC-MAIN-2 ┆ http://20 ┆ … ┆ 0.914297  ┆ 825       ┆ 2.96875  ┆ 3         │\n",
       "│ project   ┆ :6c17be7f ┆ 024-51    ┆ 14.spacea ┆   ┆           ┆           ┆          ┆           │\n",
       "│ is        ┆ -7253-470 ┆           ┆ ppschalle ┆   ┆           ┆           ┆          ┆           │\n",
       "│ solving   ┆ 3-a…      ┆           ┆ nge…      ┆   ┆           ┆           ┆          ┆           │\n",
       "│ the As…   ┆           ┆           ┆           ┆   ┆           ┆           ┆          ┆           │\n",
       "│ Life of a ┆ <urn:uuid ┆ CC-MAIN-2 ┆ http://bl ┆ … ┆ 0.959785  ┆ 2344      ┆ 3.546875 ┆ 4         │\n",
       "│ Sand      ┆ :17e4ca7f ┆ 024-51    ┆ og.azgs.a ┆   ┆           ┆           ┆          ┆           │\n",
       "│ Grain     ┆ -a10a-461 ┆           ┆ rizona.ed ┆   ┆           ┆           ┆          ┆           │\n",
       "│ THE LIFE  ┆ b-8…      ┆           ┆ u/i…      ┆   ┆           ┆           ┆          ┆           │\n",
       "│ …         ┆           ┆           ┆           ┆   ┆           ┆           ┆          ┆           │\n",
       "│ The       ┆ <urn:uuid ┆ CC-MAIN-2 ┆ http://co ┆ … ┆ 0.931961  ┆ 270       ┆ 3.484375 ┆ 3         │\n",
       "│ internet  ┆ :6e9f6c85 ┆ 024-51    ┆ detechsol ┆   ┆           ┆           ┆          ┆           │\n",
       "│ of        ┆ -2d16-4f8 ┆           ┆ utions.co ┆   ┆           ┆           ┆          ┆           │\n",
       "│ things, a ┆ 2-b…      ┆           ┆ .uk…      ┆   ┆           ┆           ┆          ┆           │\n",
       "│ syst…     ┆           ┆           ┆           ┆   ┆           ┆           ┆          ┆           │\n",
       "│ An        ┆ <urn:uuid ┆ CC-MAIN-2 ┆ http://en ┆ … ┆ 0.961632  ┆ 367       ┆ 2.75     ┆ 3         │\n",
       "│ archive   ┆ :47064b08 ┆ 024-51    ┆ .aswatmas ┆   ┆           ┆           ┆          ┆           │\n",
       "│ photo of  ┆ -fcce-492 ┆           ┆ riya.com/ ┆   ┆           ┆           ┆          ┆           │\n",
       "│ an        ┆ 3-9…      ┆           ┆ new…      ┆   ┆           ┆           ┆          ┆           │\n",
       "│ Egyptia…  ┆           ┆           ┆           ┆   ┆           ┆           ┆          ┆           │\n",
       "│ The faith ┆ <urn:uuid ┆ CC-MAIN-2 ┆ http://fa ┆ … ┆ 0.958506  ┆ 2450      ┆ 2.6875   ┆ 3         │\n",
       "│ of the    ┆ :e9c8abb4 ┆ 024-51    ┆ ithandher ┆   ┆           ┆           ┆          ┆           │\n",
       "│ Christ-Go ┆ -8d22-403 ┆           ┆ itage.com ┆   ┆           ┆           ┆          ┆           │\n",
       "│ d is…     ┆ 1-a…      ┆           ┆ /20…      ┆   ┆           ┆           ┆          ┆           │\n",
       "└───────────┴───────────┴───────────┴───────────┴───┴───────────┴───────────┴──────────┴───────────┘"
      ]
     },
     "execution_count": 2,
     "metadata": {},
     "output_type": "execute_result"
    }
   ],
   "source": [
    "import polars as pl\n",
    "#!wget https://huggingface.co/datasets/HuggingFaceFW/fineweb-edu/resolve/main/sample/10BT/000_00000.parquet\n",
    "x= pl.scan_parquet('./000_00000.parquet')\n",
    "x.head().collect()"
   ]
  },
  {
   "cell_type": "code",
   "execution_count": 3,
   "id": "d3d22a4c-3cfe-41aa-aa13-b1a905e50ff2",
   "metadata": {},
   "outputs": [],
   "source": [
    "x= pl.scan_parquet(glob.glob('./*_00000.parquet'))\n",
    "x = x.filter((pl.col('token_count')>100)&(pl.col('score')>3.)&(pl.col('language')=='en')&(pl.col('language_score')>0.95))\n",
    "x = x.collect()"
   ]
  },
  {
   "cell_type": "code",
   "execution_count": 4,
   "id": "cdd158a1-3614-48f2-ac65-0fda60a68a75",
   "metadata": {},
   "outputs": [
    {
     "name": "stdout",
     "output_type": "stream",
     "text": [
      "Number of texts: 450026, number of tokens 490.784759 M\n"
     ]
    }
   ],
   "source": [
    "print(f'Number of texts: {x.shape[0]}, number of tokens {x[\"token_count\"].sum()/1e6} M')"
   ]
  },
  {
   "cell_type": "markdown",
   "id": "5662c703-a92b-4efb-b39f-9d9519f1e10c",
   "metadata": {},
   "source": [
    "# Let's build our own data annotator!"
   ]
  },
  {
   "cell_type": "code",
   "execution_count": 5,
   "id": "c1855970-30f0-4563-b1e0-8a06b8b23397",
   "metadata": {},
   "outputs": [
    {
     "name": "stderr",
     "output_type": "stream",
     "text": [
      "/home/luca/jupyterlab310/lib/python3.10/site-packages/tqdm/auto.py:21: TqdmWarning: IProgress not found. Please update jupyter and ipywidgets. See https://ipywidgets.readthedocs.io/en/stable/user_install.html\n",
      "  from .autonotebook import tqdm as notebook_tqdm\n"
     ]
    }
   ],
   "source": [
    "import pandas as pd\n",
    "import google.generativeai as genai\n",
    "import os\n",
    "import time\n",
    "import json\n",
    "from dotenv import load_dotenv\n",
    "from tqdm import tqdm  # Import tqdm for progress bar\n",
    "\n",
    "load_dotenv()\n",
    "API_KEY = os.getenv(\"MY_API_KEY\")\n",
    "\n",
    "if not API_KEY:\n",
    "    raise ValueError(\"Google API Key not found. Please set the GOOGLE_API_KEY environment variable or define it in the script.\")\n",
    "\n",
    "genai.configure(api_key=API_KEY)\n",
    "\n",
    "\n",
    "MODEL_NAME = \"gemini-1.5-flash-8b\"\n",
    "\n",
    "ALLOWED_TOPICS = [\n",
    "    \"Arts & Humanities\",\n",
    "    \"History & Archaeology\",\n",
    "    \"Social Sciences\",\n",
    "    \"Mathematics\",\n",
    "    \"Physical Sciences\",\n",
    "    \"Children entertrainment\",    \n",
    "    \"Computer Science\",\n",
    "    \"Engineering & Technology\",\n",
    "    \"Life Sciences\",\n",
    "    \"Health & Medicine\",\n",
    "    \"Education Studies\",\n",
    "    \"Business & Finance\",\n",
    "    \"Law & Legal Studies\",\n",
    "    \"Environmental Science & Sustainability\",\n",
    "    \"Languages & Linguistics\",\n",
    "    \"Daily Routines & Home Management\",\n",
    "    \"Family & Interpersonal Relationships\",\n",
    "    \"Hobbies, Leisure & Entertainment\",\n",
    "    \"Personal Health, Wellness & Lifestyle\", \n",
    "    \"Work Life & Career\", \n",
    "    \"Consumer Experiences & Personal Finance\",\n",
    "    \"Personal Journeys & Life Events\",\n",
    "    \"Food & Culinary\"    \n",
    "]\n",
    "\n",
    "EDUCATION_LEVEL = [\"primary school\", \"middle school\", \"high school\", \"university degree\", \"PhD degree\"]\n",
    "\n",
    "def classify_text_with_gemini(text_to_classify):\n",
    "    \"\"\"\n",
    "    Uses Gemini to classify text into topic and complexity.\n",
    "\n",
    "    Args:\n",
    "        text_to_classify (str): The text content to classify.\n",
    "\n",
    "    Returns:\n",
    "        tuple: (topic, complexity) or (None, None) if an error occurs.\n",
    "    \"\"\"\n",
    "    # Ensure text is not empty or just whitespace\n",
    "    if not text_to_classify or text_to_classify.isspace():\n",
    "        #print(\"Warning: Skipping empty or whitespace-only text.\")\n",
    "        return None, None\n",
    "\n",
    "    max_length = 15000\n",
    "    if len(text_to_classify) > max_length:\n",
    "        text_to_classify = text_to_classify[:max_length] + \"...\" # Truncate\n",
    "\n",
    "    prompt = f\"\"\"\n",
    "Analyze the following text and determine its primary topic and the educational level typically required to understand it.\n",
    "\n",
    "Text:\n",
    "\"{text_to_classify}\"\n",
    "\n",
    "Instructions:\n",
    "1. Choose the *single best* topic from this list: {ALLOWED_TOPICS}\n",
    "2. Choose the *single most appropriate* education level one would need to properly understand the text: {EDUCATION_LEVEL}\n",
    "3. Provide your answer ONLY in the following JSON format:\n",
    "   {{\"topic\": \"SELECTED_TOPIC\", \"education\": \"SELECTED_EDUCATION\"}}\n",
    "\n",
    "Example Response:\n",
    "{{\"topic\": \"Science\", \"education\": \"high school\"}}\n",
    "\n",
    "Output ONLY the JSON object.\n",
    "\"\"\"\n",
    "\n",
    "    try:\n",
    "        model = genai.GenerativeModel('gemini-1.5-flash-8b')\n",
    "        response = model.generate_content(\n",
    "            prompt,\n",
    "            generation_config=genai.types.GenerationConfig(\n",
    "                max_output_tokens=50, # Limit output size\n",
    "                temperature=0.1 # Lower temperature for more deterministic classification\n",
    "            )\n",
    "            )\n",
    "        raw_response_text = response.text.strip()\n",
    "        \n",
    "        if raw_response_text.startswith(\"```json\"):\n",
    "            raw_response_text = raw_response_text[7:] # Remove ```json\n",
    "        if raw_response_text.endswith(\"```\"):\n",
    "            raw_response_text = raw_response_text[:-3] # Remove ```\n",
    "        raw_response_text = raw_response_text.strip() # Clean whitespace again\n",
    "\n",
    "        # Parse the JSON response\n",
    "        result = json.loads(raw_response_text)\n",
    "        topic = result.get(\"topic\")\n",
    "        education = result.get(\"education\")\n",
    "\n",
    "        # Validate response against allowed categories\n",
    "        if topic not in ALLOWED_TOPICS:\n",
    "            print(f\"Warning: Received invalid topic '{topic}'. Setting to None.\")\n",
    "            topic = None\n",
    "        if education not in EDUCATION_LEVEL:\n",
    "            print(f\"Warning: Received invalid complexity '{education}'. Setting to None.\")\n",
    "            education = None\n",
    "\n",
    "        return topic, education\n",
    "\n",
    "    except json.JSONDecodeError:\n",
    "        print(f\"Error: Failed to decode JSON response: {raw_response_text}\")\n",
    "        return \"Error: JSON Decode\", \"Error: JSON Decode\"\n",
    "    except ValueError as ve: # Handle potential errors from model generation (e.g., blocked content)\n",
    "         print(f\"Error: Gemini API returned ValueError (potentially blocked content or invalid response structure). Raw response: {response.text if 'response' in locals() else 'N/A'}. Details: {ve}\")\n",
    "         return \"Error: API Value\", \"Error: API Value\"\n",
    "    except Exception as e:\n",
    "        print(f\"An unexpected error occurred: {e}\")\n",
    "        return \"Error: API Call\", \"Error: API Call\""
   ]
  },
  {
   "cell_type": "code",
   "execution_count": 6,
   "id": "95c4c947-55f5-4e8e-a3ec-61a409ead9c5",
   "metadata": {},
   "outputs": [
    {
     "data": {
      "text/plain": [
       "('Life Sciences', 'university degree')"
      ]
     },
     "execution_count": 6,
     "metadata": {},
     "output_type": "execute_result"
    }
   ],
   "source": [
    "classify_text_with_gemini(\"The Copy Number Variation analysis of a DNA sequence can help characterize tumoroid cells\")"
   ]
  },
  {
   "cell_type": "code",
   "execution_count": 7,
   "id": "8a7a36d2-cb94-407a-809e-1b8d689fdfef",
   "metadata": {},
   "outputs": [
    {
     "data": {
      "text/plain": [
       "('Children entertrainment', 'primary school')"
      ]
     },
     "execution_count": 7,
     "metadata": {},
     "output_type": "execute_result"
    }
   ],
   "source": [
    "classify_text_with_gemini(\"The itsy bitsy spider went up the water spout\")"
   ]
  },
  {
   "cell_type": "code",
   "execution_count": null,
   "id": "79b06093-572d-4e25-b506-cccd82c89c08",
   "metadata": {
    "scrolled": true
   },
   "outputs": [],
   "source": [
    "import concurrent.futures\n",
    "import pandas as pd\n",
    "from tqdm import tqdm \n",
    "\n",
    "MAX_WORKERS = 8\n",
    "\n",
    "label_categories = [None] * len(x)\n",
    "label_degrees = [None] * len(x)\n",
    "\n",
    "\n",
    "\n",
    "with concurrent.futures.ThreadPoolExecutor(max_workers=MAX_WORKERS) as executor:\n",
    "    future_to_index = {\n",
    "        executor.submit(classify_text_with_gemini, text): i\n",
    "        for i, text in enumerate(x['text'])\n",
    "    }\n",
    "\n",
    "    for future in tqdm(concurrent.futures.as_completed(future_to_index), total=10000, desc=\"Classifying Text\"):\n",
    "        index = future_to_index[future]\n",
    "        try:\n",
    "            result_tuple = future.result()\n",
    "            label_categories[index] = result_tuple[0]\n",
    "            label_degrees[index] = result_tuple[1]\n",
    "        except Exception as exc:\n",
    "            print(f'Row {index} generated an exception: {exc}')\n",
    "            label_categories[index] = \"Error: Future Exception\"\n",
    "            label_degrees[index] = \"Error: Future Exception\""
   ]
  },
  {
   "cell_type": "code",
   "execution_count": null,
   "id": "29f83299-66c7-4400-85cb-8f8d2b995940",
   "metadata": {
    "scrolled": true
   },
   "outputs": [],
   "source": []
  },
  {
   "cell_type": "code",
   "execution_count": null,
   "id": "8514534f-ab7f-4d3f-a330-27483664370b",
   "metadata": {
    "scrolled": true
   },
   "outputs": [],
   "source": []
  },
  {
   "cell_type": "code",
   "execution_count": 9,
   "id": "fadf3e6a-310a-4e95-95e2-65c70cd01839",
   "metadata": {},
   "outputs": [],
   "source": [
    "x = x.with_columns([\n",
    "    pl.Series(\"label_category\", label_categories),\n",
    "    pl.Series(\"label_degree\", label_degrees)\n",
    "])"
   ]
  },
  {
   "cell_type": "code",
   "execution_count": 10,
   "id": "ad3b4701-abf2-49f1-8429-4cf6495941db",
   "metadata": {},
   "outputs": [],
   "source": [
    "x.write_parquet('simple_english.parquet')"
   ]
  },
  {
   "cell_type": "code",
   "execution_count": 20,
   "id": "695b4ec8-2234-4806-8cf9-8e57b54c8b2c",
   "metadata": {},
   "outputs": [],
   "source": [
    "x = x.filter((x['label_category'].is_null()==False)&\n",
    "             (x['label_degree']!=\"Error: API Call\")&\n",
    "             (x['label_degree']!=\"Error: API Value\")&\n",
    "             (x['label_degree']!=\"Error: Future Exception\"))"
   ]
  },
  {
   "cell_type": "code",
   "execution_count": 21,
   "id": "ec1653d4-e662-4bdd-919e-03f4308f61eb",
   "metadata": {},
   "outputs": [
    {
     "data": {
      "text/plain": [
       "([0,\n",
       "  1,\n",
       "  2,\n",
       "  3,\n",
       "  4,\n",
       "  5,\n",
       "  6,\n",
       "  7,\n",
       "  8,\n",
       "  9,\n",
       "  10,\n",
       "  11,\n",
       "  12,\n",
       "  13,\n",
       "  14,\n",
       "  15,\n",
       "  16,\n",
       "  17,\n",
       "  18,\n",
       "  19,\n",
       "  20,\n",
       "  21,\n",
       "  22],\n",
       " [Text(0, 0, 'Environmental Science & Sustainability'),\n",
       "  Text(1, 0, 'Daily Routines & Home Management'),\n",
       "  Text(2, 0, 'Health & Medicine'),\n",
       "  Text(3, 0, 'Personal Health, Wellness & Lifestyle'),\n",
       "  Text(4, 0, 'Education Studies'),\n",
       "  Text(5, 0, 'Social Sciences'),\n",
       "  Text(6, 0, 'History & Archaeology'),\n",
       "  Text(7, 0, 'Physical Sciences'),\n",
       "  Text(8, 0, 'Life Sciences'),\n",
       "  Text(9, 0, 'Engineering & Technology'),\n",
       "  Text(10, 0, 'Law & Legal Studies'),\n",
       "  Text(11, 0, 'Mathematics'),\n",
       "  Text(12, 0, 'Children entertrainment'),\n",
       "  Text(13, 0, 'Arts & Humanities'),\n",
       "  Text(14, 0, 'Business & Finance'),\n",
       "  Text(15, 0, 'Languages & Linguistics'),\n",
       "  Text(16, 0, 'Hobbies, Leisure & Entertainment'),\n",
       "  Text(17, 0, 'Computer Science'),\n",
       "  Text(18, 0, 'Family & Interpersonal Relationships'),\n",
       "  Text(19, 0, 'Food & Culinary'),\n",
       "  Text(20, 0, 'Work Life & Career'),\n",
       "  Text(21, 0, 'Consumer Experiences & Personal Finance'),\n",
       "  Text(22, 0, 'Personal Journeys & Life Events')])"
      ]
     },
     "execution_count": 21,
     "metadata": {},
     "output_type": "execute_result"
    },
    {
     "data": {
      "image/png": "[encoded data removed]",
      "text/plain": [
       "<Figure size 640x480 with 1 Axes>"
      ]
     },
     "metadata": {},
     "output_type": "display_data"
    }
   ],
   "source": [
    "import matplotlib.pyplot as plt\n",
    "plt.hist(x['label_category'])\n",
    "plt.xticks(rotation=90)"
   ]
  },
  {
   "cell_type": "code",
   "execution_count": 22,
   "id": "69e8a4f9-f0fa-488c-b970-982402abfaf9",
   "metadata": {},
   "outputs": [
    {
     "data": {
      "text/plain": [
       "([0, 1, 2, 3],\n",
       " [Text(0, 0, 'university degree'),\n",
       "  Text(1, 0, 'middle school'),\n",
       "  Text(2, 0, 'high school'),\n",
       "  Text(3, 0, 'primary school')])"
      ]
     },
     "execution_count": 22,
     "metadata": {},
     "output_type": "execute_result"
    },
    {
     "data": {
      "image/png": "[encoded data removed]",
      "text/plain": [
       "<Figure size 640x480 with 1 Axes>"
      ]
     },
     "metadata": {},
     "output_type": "display_data"
    }
   ],
   "source": [
    "plt.hist(x['label_degree'])\n",
    "plt.xticks(rotation=90)"
   ]
  },
  {
   "cell_type": "code",
   "execution_count": null,
   "id": "4651c0db-0ef8-451e-bb1f-960e2536c624",
   "metadata": {},
   "outputs": [],
   "source": [
    "# Generating synthetic data"
   ]
  },
  {
   "cell_type": "code",
   "execution_count": 27,
   "id": "beb057a7-197c-4558-b665-56d4b6f1809e",
   "metadata": {},
   "outputs": [],
   "source": [
    "import json\n",
    "\n",
    "def generate_synthetic_data(sample_text):\n",
    "    \"\"\"\n",
    "    Uses Gemini to generate synthetic data from a sample text. The synthetic data is obtained by summarizing,\n",
    "    paraphrasing, extracting keywords, and creating a creative variant of the text.\n",
    "\n",
    "    Args:\n",
    "        sample_text (str): The sample text on which to base the synthetic data generation.\n",
    "\n",
    "    Returns:\n",
    "        dict: A dictionary containing synthesized data with the following keys:\n",
    "              - \"summary\": A succinct summary of the text.\n",
    "              - \"paraphrase\": A reworded version of the text.\n",
    "              - \"keywords\": A list of keywords extracted from the text.\n",
    "              - \"synthetic_variant\": A creatively modified variant of the text.\n",
    "              Returns error messages in the dictionary fields if an error occurs.\n",
    "    \"\"\"\n",
    "    # Ensure text is not empty or just whitespace\n",
    "    if not sample_text or sample_text.isspace():\n",
    "        print(\"Warning: Skipping empty or whitespace-only text.\")\n",
    "        return {\n",
    "            \"summary\": None,\n",
    "            \"paraphrase\": None,\n",
    "            \"keywords\": None,\n",
    "            \"synthetic_variant\": None,\n",
    "        }\n",
    "\n",
    "    # Limit text length to avoid exceeding model limits (adjust as needed)\n",
    "    max_length = 15000  # Example limit, adjust based on model token limits if needed\n",
    "    if len(sample_text) > max_length:\n",
    "        sample_text = sample_text[:max_length] + \"...\"  # Truncate\n",
    "\n",
    "    prompt = f\"\"\"\n",
    "You are an advanced language model designed to perform text augmentation. Given the following text, your task is to generate synthetic data by performing these four tasks:\n",
    "\n",
    "1. **Summarization**: Provide a succinct summary of the text.\n",
    "2. **Paraphrasing**: Rephrase the text while preserving its meaning.\n",
    "3. **Synthetic Variant**: Generate one additional variant of the text with creative modifications (e.g. varying sentence structure or introducing subtle stylistic changes).\n",
    "\n",
    "Please provide your answer ONLY in the following JSON format:\n",
    "{{\n",
    "    \"summary\": \"Summarized version of the text.\",\n",
    "    \"paraphrase\": \"Paraphrased version of the text.\",\n",
    "    \"synthetic_variant\": \"Creative synthetic variant of the text.\"\n",
    "}}\n",
    "\n",
    "Example Response:\n",
    "{{\n",
    "    \"summary\": \"A brief summary of the sample text.\",\n",
    "    \"paraphrase\": \"A reworded version of the sample text.\",\n",
    "    \"synthetic_variant\": \"An alternative version of the text with creative modifications.\"\n",
    "}}\n",
    "\n",
    "Text:\n",
    "\\\"{sample_text}\\\"\n",
    "\n",
    "Output ONLY the JSON object.\n",
    "\"\"\"\n",
    "\n",
    "    try:\n",
    "        model = genai.GenerativeModel(\"gemini-1.5-flash\")  # Replace with your actual model name\n",
    "        response = model.generate_content(\n",
    "            prompt,\n",
    "            generation_config=genai.types.GenerationConfig(\n",
    "                temperature=0.2,  # Adjust temperature to balance creativity and fidelity\n",
    "                # You can also fine-tune the max output tokens if necessary, e.g.\n",
    "                # max_output_tokens=150,\n",
    "            )\n",
    "        )\n",
    "\n",
    "        raw_response_text = response.text.strip()\n",
    "        # Remove markdown formatting if present\n",
    "        if raw_response_text.startswith(\"```json\"):\n",
    "            raw_response_text = raw_response_text[7:]\n",
    "        if raw_response_text.endswith(\"```\"):\n",
    "            raw_response_text = raw_response_text[:-3]\n",
    "        raw_response_text = raw_response_text.strip()\n",
    "\n",
    "        # Parse the JSON response\n",
    "        result = json.loads(raw_response_text)\n",
    "        # Optionally, validate that required keys are present\n",
    "        for key in [\"summary\", \"paraphrase\", \"synthetic_variant\"]:\n",
    "            if key not in result:\n",
    "                print(f\"Warning: Expected key '{key}' not found in the output. Setting its value to None.\")\n",
    "                result[key] = None\n",
    "\n",
    "        return result\n",
    "\n",
    "    except json.JSONDecodeError:\n",
    "        print(f\"Error: Failed to decode JSON response: {raw_response_text}\")\n",
    "        return {\n",
    "            \"summary\": \"Error: JSON Decode\",\n",
    "            \"paraphrase\": \"Error: JSON Decode\",\n",
    "            \"synthetic_variant\": \"Error: JSON Decode\",\n",
    "        }\n",
    "    except ValueError as ve:\n",
    "        print(f\"Error: Gemini API returned ValueError. Raw response: {response.text if 'response' in locals() else 'N/A'}. Details: {ve}\")\n",
    "        return {\n",
    "            \"summary\": \"Error: API Value\",\n",
    "            \"paraphrase\": \"Error: API Value\",\n",
    "            \"synthetic_variant\": \"Error: API Value\",\n",
    "        }\n",
    "    except Exception as e:\n",
    "        print(f\"An unexpected error occurred: {e}\")\n",
    "        return {\n",
    "            \"summary\": \"Error: API Call\",\n",
    "            \"paraphrase\": \"Error: API Call\",\n",
    "            \"synthetic_variant\": \"Error: API Call\",\n",
    "        }"
   ]
  },
  {
   "cell_type": "code",
   "execution_count": null,
   "id": "38feede4-4930-42e3-801a-71bcf5561ef3",
   "metadata": {
    "scrolled": true
   },
   "outputs": [],
   "source": []
  },
  {
   "cell_type": "code",
   "execution_count": 28,
   "id": "037d5098-7a71-4e5b-9bbd-6ed6729bd579",
   "metadata": {},
   "outputs": [
    {
     "data": {
      "text/plain": [
       "{'summary': 'Card Sharks, a game show airing since 1978, features contestants guessing higher or lower than revealed cards to win money.  Different versions have existed, with varying rules and hosts, but the core gameplay of card prediction remains.',\n",
       " 'paraphrase': 'Since its debut in 1978, the game show Card Sharks has undergone several iterations.  The core concept involves two players competing to predict whether subsequent cards will be higher or lower in value, accumulating winnings through successful predictions.  Various hosts and rule modifications have marked its long run on television, with some versions proving more popular than others.',\n",
       " 'synthetic_variant': \"From its 1978 premiere under Jim Perry's charismatic hosting, Card Sharks has captivated audiences with its simple yet thrilling premise: outguess your opponent by predicting the ascending or descending order of playing cards.  The show's enduring appeal, despite numerous revivals and rule tweaks, lies in its blend of chance and strategic betting, a formula that has seen contestants risk it all for a shot at substantial winnings, leaving a legacy of nail-biting moments and memorable game show history.\"}"
      ]
     },
     "execution_count": 28,
     "metadata": {},
     "output_type": "execute_result"
    }
   ],
   "source": [
    "generate_synthetic_data(df['text'][0])"
   ]
  },
  {
   "cell_type": "markdown",
   "id": "5724f190-98bc-421e-90f9-d0f4fd63773b",
   "metadata": {},
   "source": [
    "# Part 2"
   ]
  },
  {
   "cell_type": "markdown",
   "id": "519883ce-cce2-4216-a035-97afbaadee71",
   "metadata": {},
   "source": [
    "# Loading the tokenizer"
   ]
  },
  {
   "cell_type": "code",
   "execution_count": 23,
   "id": "761e35aa-29ae-4673-8e2c-7d53de7b766d",
   "metadata": {},
   "outputs": [],
   "source": [
    "from transformers import PreTrainedTokenizerFast\n",
    "import numpy as np\n",
    "enc = PreTrainedTokenizerFast.from_pretrained('./dev/data/simple_english.parquet/custom_tokenizer')"
   ]
  },
  {
   "cell_type": "code",
   "execution_count": 24,
   "id": "9c070555-71e9-47c9-bea5-27001a0efd0c",
   "metadata": {},
   "outputs": [
    {
     "data": {
      "text/plain": [
       "[10754, 83]"
      ]
     },
     "execution_count": 24,
     "metadata": {},
     "output_type": "execute_result"
    }
   ],
   "source": [
    "enc.encode('Hello')"
   ]
  },
  {
   "cell_type": "code",
   "execution_count": null,
   "id": "e8adbfec-eceb-430e-8175-06a4e46ac158",
   "metadata": {},
   "outputs": [],
   "source": []
  },
  {
   "cell_type": "code",
   "execution_count": null,
   "id": "1b1e04b7-845f-47a1-b56d-b3b54507d758",
   "metadata": {},
   "outputs": [],
   "source": []
  },
  {
   "cell_type": "code",
   "execution_count": 25,
   "id": "c9393505-0cbf-4f4b-b893-b638982bd25d",
   "metadata": {},
   "outputs": [],
   "source": [
    "with open('./dev/data/simple_english.parquet/simple_english.parquet_custom_train_000041.bin', \"rb\") as f:\n",
    "    # first read the header, which is 256 int32 integers (4 bytes each)\n",
    "    header = np.frombuffer(f.read(256*4), dtype=np.int32)\n",
    "    ntok = header[2] # number of tokens (claimed)\n",
    "    # the rest of it are tokens, stored as uint16\n",
    "    tokens = np.frombuffer(f.read(), dtype=np.uint32)"
   ]
  },
  {
   "cell_type": "code",
   "execution_count": 26,
   "id": "0fa8b1ae-11fb-4f93-9896-edbc6f9c9c82",
   "metadata": {},
   "outputs": [],
   "source": [
    "decoded_text = enc.decode(tokens[100:200]).replace(\" \", \"\").replace(\"Ġ\", \" \").replace(\" ##\", \"\").replace('Ċ','\\n')"
   ]
  },
  {
   "cell_type": "code",
   "execution_count": 27,
   "id": "afc136aa-6cbf-422c-a2e7-87ac30aefa18",
   "metadata": {},
   "outputs": [
    {
     "name": "stdout",
     "output_type": "stream",
     "text": [
      " counties carrying horns and drums and other noisemakers met and formed a circle many miles in diameter, driving all the wild game, including wolves, before them. âĢľThere were but few wolves killed,âĢĿ reported one account, because as the circle closed, the wolves hid in the long grass until they could break through the lines and escape.\n",
      "The ecosystem that sustained such abundant life was typical of the central third of Illinois. Surveys by the Government Land Office from around 1820 suggest that tallgrass prairie\n"
     ]
    }
   ],
   "source": [
    "print(decoded_text)"
   ]
  },
  {
   "cell_type": "code",
   "execution_count": 11,
   "id": "59e2ed3c-7156-4db7-929e-e99adafdc346",
   "metadata": {},
   "outputs": [
    {
     "data": {
      "text/plain": [
       "32077573"
      ]
     },
     "execution_count": 11,
     "metadata": {},
     "output_type": "execute_result"
    }
   ],
   "source": [
    "import polars as pl\n",
    "pl.read_parquet('simple_english.parquet')['number_of_words'].sum()"
   ]
  },
  {
   "cell_type": "code",
   "execution_count": null,
   "id": "771b648d-32c6-4969-8027-0e103743234f",
   "metadata": {},
   "outputs": [],
   "source": []
  }
 ],
 "metadata": {
  "kernelspec": {
   "display_name": "Python 3 (ipykernel)",
   "language": "python",
   "name": "python3"
  },
  "language_info": {
   "codemirror_mode": {
    "name": "ipython",
    "version": 3
   },
   "file_extension": ".py",
   "mimetype": "text/x-python",
   "name": "python",
   "nbconvert_exporter": "python",
   "pygments_lexer": "ipython3",
   "version": "3.10.15"
  }
 },
 "nbformat": 4,
 "nbformat_minor": 5
}
