{
 "cells": [
  {
   "cell_type": "code",
   "execution_count": 35,
   "id": "52ecb7e3-a2f3-4283-8d12-c34be99ddf1e",
   "metadata": {},
   "outputs": [],
   "source": [
    "import glob\n",
    "import json\n",
    "from tqdm import tqdm\n",
    "import os\n",
    "import json\n",
    "import pandas as pd\n",
    "import re"
   ]
  },
  {
   "cell_type": "markdown",
   "id": "461cc28a-42af-46f8-979e-1fb8cbb864d3",
   "metadata": {},
   "source": [
    "# Download and extract Wiki data\n",
    "\n",
    "Download and extract a dump from Wikipedia\n",
    "```\n",
    "wget -O simplewiki-20250301-pages-articles-multistream.xml.bz2 https://dumps.wikimedia.org/simplewiki/20250301/simplewiki-20250301-pages-articles-multistream.xml.bz2\n",
    "```\n",
    "\n",
    "```\n",
    "bzip2 -d simplewiki-20250301-pages-articles-multistream.xml.bz2 \n",
    "```\n",
    "\n",
    "Use WikiExtractor to convert XML into a number of JSON files\n",
    "```\n",
    "python -m wikiextractor.WikiExtractor simplewiki-20250301-pages-articles-multistream.xml --json --output extracted\n",
    "```"
   ]
  },
  {
   "cell_type": "code",
   "execution_count": 36,
   "id": "65bdc343-34ac-407f-9ab2-ea8324404de0",
   "metadata": {},
   "outputs": [
    {
     "data": {
      "text/plain": [
       "[None, None, None]"
      ]
     },
     "execution_count": 36,
     "metadata": {},
     "output_type": "execute_result"
    }
   ],
   "source": [
    "files = []\n",
    "[files.extend(glob.glob(i+'/*')) for i in glob.glob('../extracted/*')]"
   ]
  },
  {
   "cell_type": "code",
   "execution_count": null,
   "id": "b1c4a658-9579-4077-9502-228bf119dad4",
   "metadata": {
    "scrolled": true
   },
   "outputs": [],
   "source": []
  },
  {
   "cell_type": "code",
   "execution_count": 40,
   "id": "ce59cbad-3c77-40f0-a165-c8b6d11c3226",
   "metadata": {},
   "outputs": [
    {
     "name": "stderr",
     "output_type": "stream",
     "text": [
      "100%|█████████████████████████████████████████████████████| 233/233 [00:03<00:00, 66.76it/s]\n"
     ]
    },
    {
     "name": "stdout",
     "output_type": "stream",
     "text": [
      "                       filename                    title  \\\n",
      "0       ../extracted/AA/wiki_28              Card Sharks   \n",
      "1       ../extracted/AA/wiki_28              Family Feud   \n",
      "2       ../extracted/AA/wiki_28  Bank of America Stadium   \n",
      "3       ../extracted/AA/wiki_28             Aston Martin   \n",
      "4       ../extracted/AA/wiki_28       Sydney Opera House   \n",
      "...                         ...                      ...   \n",
      "367504  ../extracted/AC/wiki_13       Dirk VI of Holland   \n",
      "367505  ../extracted/AC/wiki_13    Floris III of Holland   \n",
      "367506  ../extracted/AC/wiki_13    Newcastle Breakers FC   \n",
      "367507  ../extracted/AC/wiki_13      Newcastle KB United   \n",
      "367508  ../extracted/AC/wiki_13     Adamstown Rosebud FC   \n",
      "\n",
      "                                                     text  \\\n",
      "0       Card Sharks is a game show that has aired in d...   \n",
      "1       Family Feud is an American television game sho...   \n",
      "2       The Bank of America Stadium is a sports stadiu...   \n",
      "3       Aston Martin Lagonda Limited is a luxury car c...   \n",
      "4       The Adil's Sydney Opera House is an opera hous...   \n",
      "...                                                   ...   \n",
      "367504  Dirk VI (c. 1114 – 5 August 1157) was Count of...   \n",
      "367505  Floris III (1141 – August 1, 1190) was the cou...   \n",
      "367506  Newcastle Breakers Football Club was an Austra...   \n",
      "367507  Newcastle KB United was an Australian soccer c...   \n",
      "367508  Adamstown Rosebud Football Club is a semi-prof...   \n",
      "\n",
      "        number_of_characters  number_of_words topic  text_quality  \n",
      "0                       2818              514   N-A             0  \n",
      "1                       3347              611   N-A             0  \n",
      "2                        226               40   N-A             0  \n",
      "3                       1064              192   N-A             0  \n",
      "4                       1143              198   N-A             0  \n",
      "...                      ...              ...   ...           ...  \n",
      "367504                   250               48   N-A             0  \n",
      "367505                   147               30   N-A             0  \n",
      "367506                   129               20   N-A             0  \n",
      "367507                   116               19   N-A             0  \n",
      "367508                   198               30   N-A             0  \n",
      "\n",
      "[367509 rows x 7 columns]\n"
     ]
    }
   ],
   "source": [
    "data_rows = []\n",
    "\n",
    "for file_path in tqdm(files):\n",
    "    with open(file_path, \"r\", encoding=\"utf-8\") as f:\n",
    "        for line in f:\n",
    "            if not line.strip():\n",
    "                continue\n",
    "            try:\n",
    "                record = json.loads(line)\n",
    "                title = record.get(\"title\", \"\")\n",
    "                text = record.get(\"text\", \"\")\n",
    "                                \n",
    "                data_rows.append({\n",
    "                    \"filename\": file_path,\n",
    "                    \"title\": title,\n",
    "                    \"text\": text,\n",
    "                    \"number_of_characters\": len(text),\n",
    "                    \"number_of_words\": len(text.split()),\n",
    "                    \"topic\": 'N-A',\n",
    "                    \"text_quality\": 0,\n",
    "                    \n",
    "                })\n",
    "            except json.JSONDecodeError as e:\n",
    "                print(f\"Error decoding JSON in file {file_path}: {e}\")\n",
    "\n",
    "df = pd.DataFrame(data_rows)\n",
    "print(df)"
   ]
  },
  {
   "cell_type": "code",
   "execution_count": 44,
   "id": "1c1f97ed-d65b-4353-8a21-214a289acf12",
   "metadata": {},
   "outputs": [
    {
     "data": {
      "text/html": [
       "<div>\n",
       "<style scoped>\n",
       "    .dataframe tbody tr th:only-of-type {\n",
       "        vertical-align: middle;\n",
       "    }\n",
       "\n",
       "    .dataframe tbody tr th {\n",
       "        vertical-align: top;\n",
       "    }\n",
       "\n",
       "    .dataframe thead th {\n",
       "        text-align: right;\n",
       "    }\n",
       "</style>\n",
       "<table border=\"1\" class=\"dataframe\">\n",
       "  <thead>\n",
       "    <tr style=\"text-align: right;\">\n",
       "      <th></th>\n",
       "      <th>filename</th>\n",
       "      <th>title</th>\n",
       "      <th>text</th>\n",
       "      <th>number_of_characters</th>\n",
       "      <th>number_of_words</th>\n",
       "      <th>topic</th>\n",
       "      <th>text_quality</th>\n",
       "    </tr>\n",
       "  </thead>\n",
       "  <tbody>\n",
       "    <tr>\n",
       "      <th>0</th>\n",
       "      <td>../extracted/AA/wiki_28</td>\n",
       "      <td>Card Sharks</td>\n",
       "      <td>Card Sharks is a game show that has aired in d...</td>\n",
       "      <td>2818</td>\n",
       "      <td>514</td>\n",
       "      <td>N-A</td>\n",
       "      <td>0</td>\n",
       "    </tr>\n",
       "    <tr>\n",
       "      <th>1</th>\n",
       "      <td>../extracted/AA/wiki_28</td>\n",
       "      <td>Family Feud</td>\n",
       "      <td>Family Feud is an American television game sho...</td>\n",
       "      <td>3347</td>\n",
       "      <td>611</td>\n",
       "      <td>N-A</td>\n",
       "      <td>0</td>\n",
       "    </tr>\n",
       "    <tr>\n",
       "      <th>2</th>\n",
       "      <td>../extracted/AA/wiki_28</td>\n",
       "      <td>Bank of America Stadium</td>\n",
       "      <td>The Bank of America Stadium is a sports stadiu...</td>\n",
       "      <td>226</td>\n",
       "      <td>40</td>\n",
       "      <td>N-A</td>\n",
       "      <td>0</td>\n",
       "    </tr>\n",
       "    <tr>\n",
       "      <th>3</th>\n",
       "      <td>../extracted/AA/wiki_28</td>\n",
       "      <td>Aston Martin</td>\n",
       "      <td>Aston Martin Lagonda Limited is a luxury car c...</td>\n",
       "      <td>1064</td>\n",
       "      <td>192</td>\n",
       "      <td>N-A</td>\n",
       "      <td>0</td>\n",
       "    </tr>\n",
       "    <tr>\n",
       "      <th>4</th>\n",
       "      <td>../extracted/AA/wiki_28</td>\n",
       "      <td>Sydney Opera House</td>\n",
       "      <td>The Adil's Sydney Opera House is an opera hous...</td>\n",
       "      <td>1143</td>\n",
       "      <td>198</td>\n",
       "      <td>N-A</td>\n",
       "      <td>0</td>\n",
       "    </tr>\n",
       "    <tr>\n",
       "      <th>...</th>\n",
       "      <td>...</td>\n",
       "      <td>...</td>\n",
       "      <td>...</td>\n",
       "      <td>...</td>\n",
       "      <td>...</td>\n",
       "      <td>...</td>\n",
       "      <td>...</td>\n",
       "    </tr>\n",
       "    <tr>\n",
       "      <th>367504</th>\n",
       "      <td>../extracted/AC/wiki_13</td>\n",
       "      <td>Dirk VI of Holland</td>\n",
       "      <td>Dirk VI (c. 1114 – 5 August 1157) was Count of...</td>\n",
       "      <td>250</td>\n",
       "      <td>48</td>\n",
       "      <td>N-A</td>\n",
       "      <td>0</td>\n",
       "    </tr>\n",
       "    <tr>\n",
       "      <th>367505</th>\n",
       "      <td>../extracted/AC/wiki_13</td>\n",
       "      <td>Floris III of Holland</td>\n",
       "      <td>Floris III (1141 – August 1, 1190) was the cou...</td>\n",
       "      <td>147</td>\n",
       "      <td>30</td>\n",
       "      <td>N-A</td>\n",
       "      <td>0</td>\n",
       "    </tr>\n",
       "    <tr>\n",
       "      <th>367506</th>\n",
       "      <td>../extracted/AC/wiki_13</td>\n",
       "      <td>Newcastle Breakers FC</td>\n",
       "      <td>Newcastle Breakers Football Club was an Austra...</td>\n",
       "      <td>129</td>\n",
       "      <td>20</td>\n",
       "      <td>N-A</td>\n",
       "      <td>0</td>\n",
       "    </tr>\n",
       "    <tr>\n",
       "      <th>367507</th>\n",
       "      <td>../extracted/AC/wiki_13</td>\n",
       "      <td>Newcastle KB United</td>\n",
       "      <td>Newcastle KB United was an Australian soccer c...</td>\n",
       "      <td>116</td>\n",
       "      <td>19</td>\n",
       "      <td>N-A</td>\n",
       "      <td>0</td>\n",
       "    </tr>\n",
       "    <tr>\n",
       "      <th>367508</th>\n",
       "      <td>../extracted/AC/wiki_13</td>\n",
       "      <td>Adamstown Rosebud FC</td>\n",
       "      <td>Adamstown Rosebud Football Club is a semi-prof...</td>\n",
       "      <td>198</td>\n",
       "      <td>30</td>\n",
       "      <td>N-A</td>\n",
       "      <td>0</td>\n",
       "    </tr>\n",
       "  </tbody>\n",
       "</table>\n",
       "<p>367509 rows × 7 columns</p>\n",
       "</div>"
      ],
      "text/plain": [
       "                       filename                    title  \\\n",
       "0       ../extracted/AA/wiki_28              Card Sharks   \n",
       "1       ../extracted/AA/wiki_28              Family Feud   \n",
       "2       ../extracted/AA/wiki_28  Bank of America Stadium   \n",
       "3       ../extracted/AA/wiki_28             Aston Martin   \n",
       "4       ../extracted/AA/wiki_28       Sydney Opera House   \n",
       "...                         ...                      ...   \n",
       "367504  ../extracted/AC/wiki_13       Dirk VI of Holland   \n",
       "367505  ../extracted/AC/wiki_13    Floris III of Holland   \n",
       "367506  ../extracted/AC/wiki_13    Newcastle Breakers FC   \n",
       "367507  ../extracted/AC/wiki_13      Newcastle KB United   \n",
       "367508  ../extracted/AC/wiki_13     Adamstown Rosebud FC   \n",
       "\n",
       "                                                     text  \\\n",
       "0       Card Sharks is a game show that has aired in d...   \n",
       "1       Family Feud is an American television game sho...   \n",
       "2       The Bank of America Stadium is a sports stadiu...   \n",
       "3       Aston Martin Lagonda Limited is a luxury car c...   \n",
       "4       The Adil's Sydney Opera House is an opera hous...   \n",
       "...                                                   ...   \n",
       "367504  Dirk VI (c. 1114 – 5 August 1157) was Count of...   \n",
       "367505  Floris III (1141 – August 1, 1190) was the cou...   \n",
       "367506  Newcastle Breakers Football Club was an Austra...   \n",
       "367507  Newcastle KB United was an Australian soccer c...   \n",
       "367508  Adamstown Rosebud Football Club is a semi-prof...   \n",
       "\n",
       "        number_of_characters  number_of_words topic  text_quality  \n",
       "0                       2818              514   N-A             0  \n",
       "1                       3347              611   N-A             0  \n",
       "2                        226               40   N-A             0  \n",
       "3                       1064              192   N-A             0  \n",
       "4                       1143              198   N-A             0  \n",
       "...                      ...              ...   ...           ...  \n",
       "367504                   250               48   N-A             0  \n",
       "367505                   147               30   N-A             0  \n",
       "367506                   129               20   N-A             0  \n",
       "367507                   116               19   N-A             0  \n",
       "367508                   198               30   N-A             0  \n",
       "\n",
       "[367509 rows x 7 columns]"
      ]
     },
     "execution_count": 44,
     "metadata": {},
     "output_type": "execute_result"
    }
   ],
   "source": [
    "df"
   ]
  },
  {
   "cell_type": "code",
   "execution_count": 45,
   "id": "21627171-925e-4dc2-bb2c-5288b80d55be",
   "metadata": {},
   "outputs": [
    {
     "data": {
      "text/html": [
       "<div><style>\n",
       ".dataframe > thead > tr,\n",
       ".dataframe > tbody > tr {\n",
       "  text-align: right;\n",
       "  white-space: pre-wrap;\n",
       "}\n",
       "</style>\n",
       "<small>shape: (5, 11)</small><table border=\"1\" class=\"dataframe\"><thead><tr><th>text</th><th>id</th><th>dump</th><th>url</th><th>date</th><th>file_path</th><th>language</th><th>language_score</th><th>token_count</th><th>score</th><th>int_score</th></tr><tr><td>str</td><td>str</td><td>str</td><td>str</td><td>str</td><td>str</td><td>str</td><td>f64</td><td>i64</td><td>f64</td><td>i64</td></tr></thead><tbody><tr><td>&quot;This project is solving the As…</td><td>&quot;&lt;urn:uuid:6c17be7f-7253-4703-a…</td><td>&quot;CC-MAIN-2024-51&quot;</td><td>&quot;http://2014.spaceappschallenge…</td><td>&quot;2024-12-01T17:43:40Z&quot;</td><td>&quot;s3://commoncrawl/crawl-data/CC…</td><td>&quot;en&quot;</td><td>0.914297</td><td>825</td><td>2.96875</td><td>3</td></tr><tr><td>&quot;Life of a Sand Grain\n",
       "THE LIFE …</td><td>&quot;&lt;urn:uuid:17e4ca7f-a10a-461b-8…</td><td>&quot;CC-MAIN-2024-51&quot;</td><td>&quot;http://blog.azgs.arizona.edu/i…</td><td>&quot;2024-12-01T18:24:12Z&quot;</td><td>&quot;s3://commoncrawl/crawl-data/CC…</td><td>&quot;en&quot;</td><td>0.959785</td><td>2344</td><td>3.546875</td><td>4</td></tr><tr><td>&quot;The internet of things, a syst…</td><td>&quot;&lt;urn:uuid:6e9f6c85-2d16-4f82-b…</td><td>&quot;CC-MAIN-2024-51&quot;</td><td>&quot;http://codetechsolutions.co.uk…</td><td>&quot;2024-12-01T17:12:59Z&quot;</td><td>&quot;s3://commoncrawl/crawl-data/CC…</td><td>&quot;en&quot;</td><td>0.931961</td><td>270</td><td>3.484375</td><td>3</td></tr><tr><td>&quot;An archive photo of an Egyptia…</td><td>&quot;&lt;urn:uuid:47064b08-fcce-4923-9…</td><td>&quot;CC-MAIN-2024-51&quot;</td><td>&quot;http://en.aswatmasriya.com/new…</td><td>&quot;2024-12-01T17:42:22Z&quot;</td><td>&quot;s3://commoncrawl/crawl-data/CC…</td><td>&quot;en&quot;</td><td>0.961632</td><td>367</td><td>2.75</td><td>3</td></tr><tr><td>&quot;The faith of the Christ-God is…</td><td>&quot;&lt;urn:uuid:e9c8abb4-8d22-4031-a…</td><td>&quot;CC-MAIN-2024-51&quot;</td><td>&quot;http://faithandheritage.com/20…</td><td>&quot;2024-12-01T18:21:21Z&quot;</td><td>&quot;s3://commoncrawl/crawl-data/CC…</td><td>&quot;en&quot;</td><td>0.958506</td><td>2450</td><td>2.6875</td><td>3</td></tr></tbody></table></div>"
      ],
      "text/plain": [
       "shape: (5, 11)\n",
       "┌───────────┬───────────┬───────────┬───────────┬───┬───────────┬───────────┬──────────┬───────────┐\n",
       "│ text      ┆ id        ┆ dump      ┆ url       ┆ … ┆ language_ ┆ token_cou ┆ score    ┆ int_score │\n",
       "│ ---       ┆ ---       ┆ ---       ┆ ---       ┆   ┆ score     ┆ nt        ┆ ---      ┆ ---       │\n",
       "│ str       ┆ str       ┆ str       ┆ str       ┆   ┆ ---       ┆ ---       ┆ f64      ┆ i64       │\n",
       "│           ┆           ┆           ┆           ┆   ┆ f64       ┆ i64       ┆          ┆           │\n",
       "╞═══════════╪═══════════╪═══════════╪═══════════╪═══╪═══════════╪═══════════╪══════════╪═══════════╡\n",
       "│ This      ┆ <urn:uuid ┆ CC-MAIN-2 ┆ http://20 ┆ … ┆ 0.914297  ┆ 825       ┆ 2.96875  ┆ 3         │\n",
       "│ project   ┆ :6c17be7f ┆ 024-51    ┆ 14.spacea ┆   ┆           ┆           ┆          ┆           │\n",
       "│ is        ┆ -7253-470 ┆           ┆ ppschalle ┆   ┆           ┆           ┆          ┆           │\n",
       "│ solving   ┆ 3-a…      ┆           ┆ nge…      ┆   ┆           ┆           ┆          ┆           │\n",
       "│ the As…   ┆           ┆           ┆           ┆   ┆           ┆           ┆          ┆           │\n",
       "│ Life of a ┆ <urn:uuid ┆ CC-MAIN-2 ┆ http://bl ┆ … ┆ 0.959785  ┆ 2344      ┆ 3.546875 ┆ 4         │\n",
       "│ Sand      ┆ :17e4ca7f ┆ 024-51    ┆ og.azgs.a ┆   ┆           ┆           ┆          ┆           │\n",
       "│ Grain     ┆ -a10a-461 ┆           ┆ rizona.ed ┆   ┆           ┆           ┆          ┆           │\n",
       "│ THE LIFE  ┆ b-8…      ┆           ┆ u/i…      ┆   ┆           ┆           ┆          ┆           │\n",
       "│ …         ┆           ┆           ┆           ┆   ┆           ┆           ┆          ┆           │\n",
       "│ The       ┆ <urn:uuid ┆ CC-MAIN-2 ┆ http://co ┆ … ┆ 0.931961  ┆ 270       ┆ 3.484375 ┆ 3         │\n",
       "│ internet  ┆ :6e9f6c85 ┆ 024-51    ┆ detechsol ┆   ┆           ┆           ┆          ┆           │\n",
       "│ of        ┆ -2d16-4f8 ┆           ┆ utions.co ┆   ┆           ┆           ┆          ┆           │\n",
       "│ things, a ┆ 2-b…      ┆           ┆ .uk…      ┆   ┆           ┆           ┆          ┆           │\n",
       "│ syst…     ┆           ┆           ┆           ┆   ┆           ┆           ┆          ┆           │\n",
       "│ An        ┆ <urn:uuid ┆ CC-MAIN-2 ┆ http://en ┆ … ┆ 0.961632  ┆ 367       ┆ 2.75     ┆ 3         │\n",
       "│ archive   ┆ :47064b08 ┆ 024-51    ┆ .aswatmas ┆   ┆           ┆           ┆          ┆           │\n",
       "│ photo of  ┆ -fcce-492 ┆           ┆ riya.com/ ┆   ┆           ┆           ┆          ┆           │\n",
       "│ an        ┆ 3-9…      ┆           ┆ new…      ┆   ┆           ┆           ┆          ┆           │\n",
       "│ Egyptia…  ┆           ┆           ┆           ┆   ┆           ┆           ┆          ┆           │\n",
       "│ The faith ┆ <urn:uuid ┆ CC-MAIN-2 ┆ http://fa ┆ … ┆ 0.958506  ┆ 2450      ┆ 2.6875   ┆ 3         │\n",
       "│ of the    ┆ :e9c8abb4 ┆ 024-51    ┆ ithandher ┆   ┆           ┆           ┆          ┆           │\n",
       "│ Christ-Go ┆ -8d22-403 ┆           ┆ itage.com ┆   ┆           ┆           ┆          ┆           │\n",
       "│ d is…     ┆ 1-a…      ┆           ┆ /20…      ┆   ┆           ┆           ┆          ┆           │\n",
       "└───────────┴───────────┴───────────┴───────────┴───┴───────────┴───────────┴──────────┴───────────┘"
      ]
     },
     "execution_count": 45,
     "metadata": {},
     "output_type": "execute_result"
    }
   ],
   "source": [
    "# FineWeb Edu\n",
    "\n",
    "import polars as pl\n",
    "x= pl.scan_parquet('./000_00000.parquet')\n",
    "x.head().collect()"
   ]
  },
  {
   "cell_type": "code",
   "execution_count": 46,
   "id": "1f123960-fe41-4073-bf0e-1b9c4883c010",
   "metadata": {},
   "outputs": [],
   "source": [
    "x= pl.scan_parquet('./000_00000.parquet')\n",
    "x = x.filter((pl.col('token_count')>100)&(pl.col('score')>2.5)&(pl.col('language')=='en'))\n",
    "x = x.collect()"
   ]
  },
  {
   "cell_type": "code",
   "execution_count": 28,
   "id": "1a1679cf-94e7-41d7-9d48-2873ef3f20eb",
   "metadata": {},
   "outputs": [
    {
     "name": "stdout",
     "output_type": "stream",
     "text": [
      "In the translated text above, these terms all get the articles, however, in the test, they all don't.\n",
      "i.e.:la astronomía, y en las matemáticas. También, trabajaron en la agricultura y el comercio\"\n",
      "in the test, it corrected me, so I'm a bit confused:\n",
      "Could you please let me know when you can/cannot use the article \"le,la,las\" etc in front of these:\n",
      "The test examples:\n",
      "Kwizbot Los aztecas destacaron en astronomía,\n",
      "You Los aztecas destacan en la astronomía,\n",
      "You could also say: Los aztecas destacaron en la astronomía,\n",
      "Kwizbot También, trabajaron en la agricultura\n",
      "You También, trabajaron en agricultura\n",
      "[note: here I dropped the article and it didn't correct me]\n",
      "Well done! and in mathematics.\n",
      "Your answer matched mine: y en matemáticas.\n",
      "Thank you for your help and have a great day!\n",
      "Freeform Writing Exercise A2\n",
      "Four years later, and still no answer to this question. I had the same questions. It appears to me using various online resources, grammar correcting sites, and ChatGPT that the use of articles is optional in some of these situations. It is not clear at all when they HAVE to be used. But if in doubt, it will be the opposite of whatever I write or say!\n",
      "Sign in to submit your answer\n",
      "Don't have an account yet? Join today\n",
      "Test your Spanish to the CEFR standard\n"
     ]
    }
   ],
   "source": [
    "print(x.filter(x['language_score']<0.7)['text'][0])"
   ]
  },
  {
   "cell_type": "code",
   "execution_count": 47,
   "id": "5a48bec9-c8ed-4b97-aed8-ea300db154d0",
   "metadata": {},
   "outputs": [
    {
     "name": "stdout",
     "output_type": "stream",
     "text": [
      "The faith of the Christ-God is a living paradox in the Asiatic world. Christianity has long survived in Asia’s periphery, especially in the Near East and to a lesser extent in India, but it has never thrived in Asia’s heart, the Orient.\n",
      "Generally speaking , the farther east one moves across the Eurasian continent away from Constantinople to Beijing, the more mystical and relative philosophy and theology become. The absolute and ridged dynamics of evil versus good and the rationality of the Abrahamic religions fade away in the face of subjective, Vedic traditions. Christianity, Zoroastrianism, and Islam naturally then fit as oil to Vedic water.\n",
      "When Christianity comes to the Vedic world, it presents a monotheistic, good-evil dichotomy that is completely foreign to the natives of the Orient. Therefore when many Buddhists, Hindus, Taoists, Shintoists, and Confucianists are confronted by Jesus, He does not fit into their historical paradigms.\n",
      "Regardless of the temporary irrelevance of Christianity in the East, other than as a means of American political elites to con conservatives into supporting a third invasion of Iraq, the coming future of Christianity is to move eastward and take root in Beijing, instead of Rome. Twenty-first-century Christianity will be dominated by the Oriental peoples, with China serving as its political sword, much like France under Charlemagne. With the demographic time bomb inevitably going to burst in Europe at present course, the demographic time bomb of Christianity bursting to take over China is also inevitable—curiously enough, almost at the same time in the mid-late twenty-first century.\n",
      "Presenting Christianity to the Oriental peoples has always been a very difficult issue, given that the Christian faith has been carried by the standards of European powers. Christianity has always had a long presence in the Orient, especially China, since the mid-600s. But in the late 900s, Emperor Wuzong, in a spirit of what could be considered hyper-Chinese nativism, expelled Buddhist, Christian, and Zoroastrian teachings and initiated a massive persecution of Christians that nearly exterminated Christianity altogether in the East. Under the Mongols, interestingly enough, Christianity returned to China and much of the rest of the Orient though the free-moving economic zone of the Mongol Empire.\n",
      "Christianity has always had a difficult presence in East Asia, especially China and Japan. In China, the difficulty came in Christ’s Gospel’s clashing with the words of Confucius, whose philosophy was similar to Christianity in that man worships the God of the heavens. The only problem is that for the Chinese, heaven was transcendent to earth, whereas heaven and earth are two separate entities in Christian teaching. Therefore the message of Christ turned into a force of insurrection against the Mandate of Heaven that guided the state, since Christ was the King of all kings. A similar story is true in Japan, where the Shogunates were always suspicious of Christianity because it undermined the supremacy of Shogun rule by divine authority.\n",
      "In the modern age, now that Maoism has decimated China’s ancient identity and traditions with atheism, Christianity is making a new stunning emergence in the nation that has historically rejected it, as the Gospel of Jesus Christ brings deeper meaning and faith to a people perhaps even more wed to materialistic philosophy than the Americans.\n",
      "In South Korea, Christianity is exploding and is now the single largest religion in the Republic of Korea. Much of this conversion came after the Second World War, when the United States sacrificed its blood to protect the Republic from the communists of the north. The United States then needed a powerful force on the Korean peninsula loyal to its interests and consequently, after fifty years of economic support coupled with intense missionary activity, South Korea is now Asia’s leading Christian country.\n",
      "A tragically opposite story exists in Japan. After the war, the Japanese mythology of the god-emperor was over and the Japanese were searching for something new to believe in. Rather than following the advice and model of General MacArthur to convert the Japanese to Christianity, America instead gave them a different god to worship: capitalism. Granted, it helped Japan rapidly modernize so Sony, Toshiba, Honda, and Toyota could own the American economy, but Christianity has been utterly stagnant in a nation that worships the god-dollar rather than the god-emperor or the one true God.\n",
      "If current conversion rates continue, the center of Christianity in the twenty-second century is going be Beijing and Seoul, rather than Rome or Westminster, with perhaps a sort of interregnum period where Moscow serves as the Third Rome. Japan’s future is uncertain, but if what happened to Rome happens to China and South Korea, a Christian Orient is quite likely. So if the West cannot resolve the Islamic question in the twenty-first century, imagine what an empowered, militarized Christian China could accomplish.\n",
      "According to Sacred Tradition, Christianity was introduced to India by St. Thomas the Apostle in 52 AD in Kerala; hence they are now known as St. Thomas Christians. India was already partially Christianized before Scandinavia, Russia, and the British Isles ever had significant populations of Christians.\n",
      "Christ from an Indian perspective must be viewed though the Hindu worldview. According to Hindu thought, every human being possesses some element of the divine inside of him. Some people learn to manifest it more, but some do not, and it is not necessarily the duty of an ecclesiastical body or school of thought to claim a monopoly on the exact means and path to moksha (enlightenment).\n",
      "Therefore, for Christians to arrive in India and claim that Jesus Christ is the one true God-Man stands in stark contrast to the pantheistic views of Hindu society. This presets a conundrum of how Hindus view Jesus. For when a Christian emerges to declare that Jesus Christ is God, the Hindu is inclined to say, “Well yes, of course.” This is a very similar dilemma that Christians encountered in their interactions with Roman and Nordic pagans, where worshiping the Christ-God was allowed next to the worship of the old gods.\n",
      "To the Hindus, however, the teachings of Jesus Christ can and do resonate with Indian society. The tempered notions of Jesus as an enlightened teacher automatically give Indians an inclined ear, given the history and prevalence of many different enlightened teachers who have populated India’s historical landscape. Remember, it was India which produced the Buddha and which in turn gave us the Dali Lama. This legacy of producing deep religious figures is a major part of India’s identity.\n",
      "The presence of Hinduism presents a difficult conundrum for Christian evangelization in India. By presenting Christ as God to the Hindus, the Christian is already affirming the reality of Hinduism. Only by establishing the supremacy of Christ as a chosen prophet can the Hindu come to reject Hinduism and become a Christian. However, despite these challenges and centuries where Christianity has occupied a low position in Indian society, India is becoming one of the fastest-converting Christian nations.\n",
      "To be an Arab Christian is to be condemned as a persecuted minority, yet such Christians are a gateway to the past. Many mainstream Arabs are Christian, and Christians have historically been in many elite positions of power, most notably in Ba’athist regimes. Yet, amongst the commoners, many still find themselves on the periphery of society, due to their loyalty to ancient historical groups. Most noteworthy of these are the Copts of Egypt, the Assyrians of Iraq and Syria, the Kurds, and the Maronites of Lebanon.\n",
      "Arabs were some of the first peoples to encounter Jesus, see His miracles, and even watch Him crucified and resurrected from the dead. The growth of Christianity in the Arab world was perhaps one of the most organic growths of the Faith. There were not many great expeditions of evangelism inside the Arab world, as the Faith took off very naturally. The violent arrival of Islam onto the Arab scene has dealt a very damaging blow to the Christian identity of Arabs, but yet, to this day, many Christian Arabs are direct descendants from the first generation of Christians who walked with Christ Himself.\n",
      "To many of these Arab and even non-Arab groups, often times being a Christian is a way to keep the ancient folkish traditions alive in the face of jihadist Islam, which seeks to undermine folkish traditions and blend all peoples into a universalist identity of the ummah. The sad reality regarding Arab Christianity is that it is on the verge of extermination. In 1948, the Holy Land was 18% Christian, and now it is only 2%. The dual problem of a rising jihadist Islam and hostile Israeli policies forces Arab Christians to either depart or stay and be persecuted. Without a vibrant Christian Europe or United States to stand as a bulwark against a rising Islamism or force the hand of Israel to be more tolerant, Christianity’s future in its home region looks bleak.\n",
      "Notwithstanding Jesus’s fulfillment of their own prophecy, Christ for the Hebrews has been one of the most difficult encounters in the Christian faith. To an extent it has already been decided, when in Matthew 27:24-25 the Jewish mob declared, “His blood be on us and on our children!” The Jews had then rejected their promised Messiah and therefore condemned themselves to spiritual exile. That being said, this does not render it impossible for Jews to become Christians.\n",
      "For the Jew that becomes a Christian, he is meeting the fulfillment of the God of his ancestors that was never fully revealed to him. The prophets gave the Jews glimpses, but even the patriarchs and prophets in the Old Testament did not clearly know the Messiah, but rather believed on the promise of the Messiah. So the Hebrew that comes to Christ is receiving the fulfillment of his patrimony.\n",
      "Sadly, most Hebrews stand in fulfillment of the Jewish mob’s pledge and take great pride in scorning Jesus. To the majority of Jews, Jesus is a renegade, the most dangerous false Messiah to ever curse the Jewish people. By rejecting the divinity of Jesus Christ, the breach with Christianity is complete.\n",
      "When the Hebrews were exiled and began to live amongst Christians in Christian lands, the Talmud was constructed in order to provide Jews with the ways and means to be Jewish while not being in the Holy Land. This required Jews to develop a coherent doctrine regarding Jesus Christ and the Christians. The Babylonian Talmud provides this, cursing Jesus as a practitioner of witchcraft, reviling Mary as a fornicatress and whore. Though it affirms Jesus’s crucifixion, it asserts that He deserved it as a criminal who is now burning in hell in His own excrement. There is no other religion where Jesus is treated with such hostility. Though Islam does not treat Christians with much dignity, it does regard Jesus Christ as a prophet, and the Koran pays great honor to the Virgin Mother.\n",
      "Jesus to the Hebrews, then, is either the greatest fulfillment of history or their greatest enemy, because Jesus Christ presently, just as He did in His era, poses the greatest threat to Jewish earthly power. The Jews have turned their history, symbols, heritage, and so forth into such an idol that they cannot and could not recognize Jesus when He came to them. Therefore Christianity becomes the most heinous of all enemies to the Jews, because it is the perversion of their faith and must consequently be treated with the greatest resistance.\n",
      "Unlike European paganism, in which the paradigms of Christianity made it much easier to present the Christ as a fulfillment of Greek philosophical thought or a stronger chieftain than Odin, the Jesus of the Orient is much more confrontational. To an extent He is yet to resonate with Oriental thought patterns and folkways. He is an outside figure with an outside message, mainly identified with the political power of the white-man. This notwithstanding, in due time we can await a Christianized Orient as the Gospel goes forth.\n"
     ]
    }
   ],
   "source": [
    "print(x.filter(x['score']<2.7)['text'][0])"
   ]
  },
  {
   "cell_type": "markdown",
   "id": "5662c703-a92b-4efb-b39f-9d9519f1e10c",
   "metadata": {},
   "source": [
    "# Let's build our own data classifier!"
   ]
  },
  {
   "cell_type": "code",
   "execution_count": 56,
   "id": "c1855970-30f0-4563-b1e0-8a06b8b23397",
   "metadata": {},
   "outputs": [],
   "source": [
    "import pandas as pd\n",
    "import google.generativeai as genai\n",
    "import os\n",
    "import time\n",
    "import json\n",
    "from dotenv import load_dotenv\n",
    "from tqdm import tqdm  # Import tqdm for progress bar\n",
    "\n",
    "load_dotenv()\n",
    "API_KEY = os.getenv(\"MY_API_KEY\")\n",
    "\n",
    "if not API_KEY:\n",
    "    raise ValueError(\"Google API Key not found. Please set the GOOGLE_API_KEY environment variable or define it in the script.\")\n",
    "\n",
    "genai.configure(api_key=API_KEY)\n",
    "\n",
    "\n",
    "MODEL_NAME = \"gemini-1.5-flash-8b\"\n",
    "\n",
    "ALLOWED_TOPICS = [\"Art\", \"History\", \"Science\", \"General knowledge\"]\n",
    "ALLOWED_COMPLEXITY = [\"elementary\", \"middle school\", \"high school\", \"university degree\", \"doctorate\"]\n",
    "\n",
    "def classify_text_with_gemini(text_to_classify):\n",
    "    \"\"\"\n",
    "    Uses Gemini to classify text into topic and complexity.\n",
    "\n",
    "    Args:\n",
    "        text_to_classify (str): The text content to classify.\n",
    "\n",
    "    Returns:\n",
    "        tuple: (topic, complexity) or (None, None) if an error occurs.\n",
    "    \"\"\"\n",
    "    # Ensure text is not empty or just whitespace\n",
    "    if not text_to_classify or text_to_classify.isspace():\n",
    "        print(\"Warning: Skipping empty or whitespace-only text.\")\n",
    "        return None, None\n",
    "\n",
    "    # Limit text length to avoid exceeding model limits (adjust as needed)\n",
    "    max_length = 15000 # Example limit, check model's token limits if necessary\n",
    "    if len(text_to_classify) > max_length:\n",
    "        text_to_classify = text_to_classify[:max_length] + \"...\" # Truncate\n",
    "\n",
    "\n",
    "    prompt = f\"\"\"\n",
    "Analyze the following text and determine its primary topic and the educational level typically required to understand it.\n",
    "\n",
    "Text:\n",
    "\"{text_to_classify}\"\n",
    "\n",
    "Instructions:\n",
    "1. Choose the *single best* topic from this list: {ALLOWED_TOPICS}\n",
    "2. Choose the *single most appropriate* complexity level from this list: {ALLOWED_COMPLEXITY}\n",
    "3. Provide your answer ONLY in the following JSON format:\n",
    "   {{\"topic\": \"SELECTED_TOPIC\", \"complexity\": \"SELECTED_COMPLEXITY\"}}\n",
    "\n",
    "Example Response:\n",
    "{{\"topic\": \"Science\", \"complexity\": \"high school\"}}\n",
    "\n",
    "Output ONLY the JSON object.\n",
    "\"\"\"\n",
    "\n",
    "    try:\n",
    "        model = genai.GenerativeModel('gemini-1.5-flash-8b')\n",
    "        response = model.generate_content(\n",
    "            prompt,\n",
    "            generation_config=genai.types.GenerationConfig(\n",
    "                # candidate_count=1, # Ensure only one response candidate\n",
    "                # max_output_tokens=50, # Limit output size\n",
    "                temperature=0.1 # Lower temperature for more deterministic classification\n",
    "            )\n",
    "            )\n",
    "\n",
    "        raw_response_text = response.text.strip()\n",
    "        if raw_response_text.startswith(\"```json\"):\n",
    "            raw_response_text = raw_response_text[7:] # Remove ```json\n",
    "        if raw_response_text.endswith(\"```\"):\n",
    "            raw_response_text = raw_response_text[:-3] # Remove ```\n",
    "        raw_response_text = raw_response_text.strip() # Clean whitespace again\n",
    "\n",
    "        # Parse the JSON response\n",
    "        result = json.loads(raw_response_text)\n",
    "        topic = result.get(\"topic\")\n",
    "        complexity = result.get(\"complexity\")\n",
    "\n",
    "        # Validate response against allowed categories\n",
    "        if topic not in ALLOWED_TOPICS:\n",
    "            print(f\"Warning: Received invalid topic '{topic}'. Setting to None.\")\n",
    "            topic = None\n",
    "        if complexity not in ALLOWED_COMPLEXITY:\n",
    "            print(f\"Warning: Received invalid complexity '{complexity}'. Setting to None.\")\n",
    "            complexity = None\n",
    "\n",
    "        return topic, complexity\n",
    "\n",
    "    except json.JSONDecodeError:\n",
    "        print(f\"Error: Failed to decode JSON response: {raw_response_text}\")\n",
    "        return \"Error: JSON Decode\", \"Error: JSON Decode\"\n",
    "    except ValueError as ve: # Handle potential errors from model generation (e.g., blocked content)\n",
    "         print(f\"Error: Gemini API returned ValueError (potentially blocked content or invalid response structure). Raw response: {response.text if 'response' in locals() else 'N/A'}. Details: {ve}\")\n",
    "         return \"Error: API Value\", \"Error: API Value\"\n",
    "    except Exception as e:\n",
    "        print(f\"An unexpected error occurred: {e}\")\n",
    "        return \"Error: API Call\", \"Error: API Call\""
   ]
  },
  {
   "cell_type": "code",
   "execution_count": 57,
   "id": "95c4c947-55f5-4e8e-a3ec-61a409ead9c5",
   "metadata": {},
   "outputs": [
    {
     "data": {
      "text/plain": [
       "('General knowledge', 'elementary')"
      ]
     },
     "execution_count": 57,
     "metadata": {},
     "output_type": "execute_result"
    }
   ],
   "source": [
    "classify_text_with_gemini(\"C'era una volta un bosco incantato\")"
   ]
  },
  {
   "cell_type": "code",
   "execution_count": 33,
   "id": "db0f05c2-27cc-4a43-a0f1-48b9b9b3f7b3",
   "metadata": {},
   "outputs": [
    {
     "name": "stderr",
     "output_type": "stream",
     "text": [
      "Classifying Text: 100%|███████████████████████████████████| 100/100 [00:04<00:00, 24.44it/s]\n"
     ]
    }
   ],
   "source": [
    "import concurrent.futures\n",
    "MAX_WORKERS = 8\n",
    "results = [None] * len(df) # Pre-allocate list to store results in order\n",
    "\n",
    "with concurrent.futures.ThreadPoolExecutor(max_workers=MAX_WORKERS) as executor:\n",
    "\n",
    "    future_to_index = {\n",
    "        executor.submit(classify_text_with_gemini, text): i\n",
    "        for i, text in enumerate(df['text'])\n",
    "    }\n",
    "\n",
    "    for future in tqdm(concurrent.futures.as_completed(future_to_index), total=len(df), desc=\"Classifying Text\"):\n",
    "        index = future_to_index[future]\n",
    "        try:\n",
    "            result_tuple = future.result()\n",
    "            results[index] = result_tuple\n",
    "        except Exception as exc:\n",
    "            print(f'Row {index} generated an exception: {exc}')\n",
    "            results[index] = (\"Error: Future Exception\", \"Error: Future Exception\")"
   ]
  },
  {
   "cell_type": "code",
   "execution_count": null,
   "id": "85c015fe-359f-4a73-aec8-c6dd387103da",
   "metadata": {},
   "outputs": [],
   "source": []
  },
  {
   "cell_type": "code",
   "execution_count": null,
   "id": "ec5cb323-3eb9-4df9-83b4-a7ac2dcd222c",
   "metadata": {},
   "outputs": [],
   "source": [
    "# Generating synthetic data"
   ]
  },
  {
   "cell_type": "code",
   "execution_count": 66,
   "id": "beb057a7-197c-4558-b665-56d4b6f1809e",
   "metadata": {},
   "outputs": [],
   "source": [
    "import json\n",
    "\n",
    "def generate_synthetic_data(sample_text):\n",
    "    \"\"\"\n",
    "    Uses Gemini to generate synthetic data from a sample text. The synthetic data is obtained by summarizing,\n",
    "    paraphrasing, extracting keywords, and creating a creative variant of the text.\n",
    "\n",
    "    Args:\n",
    "        sample_text (str): The sample text on which to base the synthetic data generation.\n",
    "\n",
    "    Returns:\n",
    "        dict: A dictionary containing synthesized data with the following keys:\n",
    "              - \"summary\": A succinct summary of the text.\n",
    "              - \"paraphrase\": A reworded version of the text.\n",
    "              - \"keywords\": A list of keywords extracted from the text.\n",
    "              - \"synthetic_variant\": A creatively modified variant of the text.\n",
    "              Returns error messages in the dictionary fields if an error occurs.\n",
    "    \"\"\"\n",
    "    # Ensure text is not empty or just whitespace\n",
    "    if not sample_text or sample_text.isspace():\n",
    "        print(\"Warning: Skipping empty or whitespace-only text.\")\n",
    "        return {\n",
    "            \"summary\": None,\n",
    "            \"paraphrase\": None,\n",
    "            \"keywords\": None,\n",
    "            \"synthetic_variant\": None,\n",
    "        }\n",
    "\n",
    "    # Limit text length to avoid exceeding model limits (adjust as needed)\n",
    "    max_length = 15000  # Example limit, adjust based on model token limits if needed\n",
    "    if len(sample_text) > max_length:\n",
    "        sample_text = sample_text[:max_length] + \"...\"  # Truncate\n",
    "\n",
    "    prompt = f\"\"\"\n",
    "You are an advanced language model designed to perform text augmentation. Given the following text, your task is to generate synthetic data by performing these four tasks:\n",
    "\n",
    "1. **Summarization**: Provide a succinct summary of the text.\n",
    "2. **Paraphrasing**: Rephrase the text while preserving its meaning.\n",
    "3. **Synthetic Variant**: Generate one additional variant of the text with creative modifications (e.g. varying sentence structure or introducing subtle stylistic changes).\n",
    "\n",
    "Please provide your answer ONLY in the following JSON format:\n",
    "{{\n",
    "    \"summary\": \"Summarized version of the text.\",\n",
    "    \"paraphrase\": \"Paraphrased version of the text.\",\n",
    "    \"synthetic_variant\": \"Creative synthetic variant of the text.\"\n",
    "}}\n",
    "\n",
    "Example Response:\n",
    "{{\n",
    "    \"summary\": \"A brief summary of the sample text.\",\n",
    "    \"paraphrase\": \"A reworded version of the sample text.\",\n",
    "    \"synthetic_variant\": \"An alternative version of the text with creative modifications.\"\n",
    "}}\n",
    "\n",
    "Text:\n",
    "\\\"{sample_text}\\\"\n",
    "\n",
    "Output ONLY the JSON object.\n",
    "\"\"\"\n",
    "\n",
    "    try:\n",
    "        model = genai.GenerativeModel(\"gemini-1.5-flash\")  # Replace with your actual model name\n",
    "        response = model.generate_content(\n",
    "            prompt,\n",
    "            generation_config=genai.types.GenerationConfig(\n",
    "                temperature=0.2,  # Adjust temperature to balance creativity and fidelity\n",
    "                # You can also fine-tune the max output tokens if necessary, e.g.\n",
    "                # max_output_tokens=150,\n",
    "            )\n",
    "        )\n",
    "\n",
    "        raw_response_text = response.text.strip()\n",
    "        # Remove markdown formatting if present\n",
    "        if raw_response_text.startswith(\"```json\"):\n",
    "            raw_response_text = raw_response_text[7:]\n",
    "        if raw_response_text.endswith(\"```\"):\n",
    "            raw_response_text = raw_response_text[:-3]\n",
    "        raw_response_text = raw_response_text.strip()\n",
    "\n",
    "        # Parse the JSON response\n",
    "        result = json.loads(raw_response_text)\n",
    "        # Optionally, validate that required keys are present\n",
    "        for key in [\"summary\", \"paraphrase\", \"synthetic_variant\"]:\n",
    "            if key not in result:\n",
    "                print(f\"Warning: Expected key '{key}' not found in the output. Setting its value to None.\")\n",
    "                result[key] = None\n",
    "\n",
    "        return result\n",
    "\n",
    "    except json.JSONDecodeError:\n",
    "        print(f\"Error: Failed to decode JSON response: {raw_response_text}\")\n",
    "        return {\n",
    "            \"summary\": \"Error: JSON Decode\",\n",
    "            \"paraphrase\": \"Error: JSON Decode\",\n",
    "            \"synthetic_variant\": \"Error: JSON Decode\",\n",
    "        }\n",
    "    except ValueError as ve:\n",
    "        print(f\"Error: Gemini API returned ValueError. Raw response: {response.text if 'response' in locals() else 'N/A'}. Details: {ve}\")\n",
    "        return {\n",
    "            \"summary\": \"Error: API Value\",\n",
    "            \"paraphrase\": \"Error: API Value\",\n",
    "            \"synthetic_variant\": \"Error: API Value\",\n",
    "        }\n",
    "    except Exception as e:\n",
    "        print(f\"An unexpected error occurred: {e}\")\n",
    "        return {\n",
    "            \"summary\": \"Error: API Call\",\n",
    "            \"paraphrase\": \"Error: API Call\",\n",
    "            \"synthetic_variant\": \"Error: API Call\",\n",
    "        }"
   ]
  },
  {
   "cell_type": "code",
   "execution_count": 67,
   "id": "38feede4-4930-42e3-801a-71bcf5561ef3",
   "metadata": {},
   "outputs": [
    {
     "data": {
      "text/plain": [
       "'Card Sharks is a game show that has aired in different versions since 1978.\\nThe main game.\\nTwo contestants fought against each other in the main game—the returning champion and a challenging contestant. The returning champion was represented by the color red. The challenger was represented by the color blue. The host, Jim Perry, then asked a toss-up question, which was asked to 100 people before the show (example: \"We surveyed 100 lawyers: Have you ever defended a person who you believed was guilty? How many lawyers said they have?\"). The contestant he asked it to would provide what they thought the number of people who gave the answer the host gave. The other contestant would then say whether they thought the actual number was higher or lower than the first contestant\\'s guess. Whoever is closer to the number got a chance at the cards.\\nThere were two rows of five cards: the top red row (for the champion) and the bottom blue row (for the challenger). The contestant in control had to predict whether each card was higher or lower than the card before it.\\nThere were two games. Whoever won both games would go on to play the Money Cards.\\nThe Money Cards.\\nThe winning contestant would then play the Money Cards to win more money. He/she was given $200 to start out with. They then had to predict whether each card was higher or lower than the one before it, just like before. This time, they had to bet money on each guess (example: $200 higher than a 2). The contestant worked their way across the bottom row, in which there were four cards, and then made it to the second row and were given $200 more. The least a person could bet on each card for the first two rows was $50. They then worked their way across that row, until they reached the top row, where there was only one card. That row was called the \"Big Bet\" row. There, the contestant had to bet at least half of what they won before.\\nOther versions.\\n\"Card Sharks\" aired on NBC from 1978 to 1981 and was hosted by Jim Perry. It returned on CBS and in syndication in 1986. The CBS version was hosted by Bob Eubanks and ran until 1989. The syndicated version was hosted by comedian Bill Rafferty, but ran until 1987.\\nIn 2001, \"Card Sharks\" came back, hosted by Pat Bullard. However, this version had different rules than the other ones. In this one, two teams of two contestants (two at a time) had to guess higher or lower (or predict if the next card had exactly the same number as the previous one) on one row of seven cards. This version was not very popular and was cancelled after 13 weeks. Many \"Card Sharks\" fans say this version is the worst game show revival of all time.\\n\"Card Sharks\" returned to television in 2019 as an hour-long series hosted by Joel McHale, airing on ABC. The gameplay is similar to the 1978-81 and 1986-89 versions.'"
      ]
     },
     "execution_count": 67,
     "metadata": {},
     "output_type": "execute_result"
    }
   ],
   "source": [
    "df['text'].iloc[0]"
   ]
  },
  {
   "cell_type": "code",
   "execution_count": 68,
   "id": "037d5098-7a71-4e5b-9bbd-6ed6729bd579",
   "metadata": {},
   "outputs": [
    {
     "data": {
      "text/plain": [
       "{'summary': 'Card Sharks, a game show with various iterations since 1978, features contestants guessing card values higher or lower than previous ones to win money.  Different versions existed, with varying rules and hosts, including Jim Perry, Bob Eubanks, and Joel McHale. A 2001 version with teams and different rules proved unpopular.',\n",
       " 'paraphrase': \"Since its debut in 1978, the game show Card Sharks has undergone several revivals.  The core gameplay involves contestants competing to predict whether playing cards will be higher or lower in value than the preceding card, accumulating money with each correct guess.  Different hosts and rule variations have marked the show's history, with some versions proving more successful than others.\",\n",
       " 'synthetic_variant': \"From its 1978 premiere under Jim Perry's charismatic hosting, Card Sharks has captivated audiences with its simple yet thrilling premise: outguess your opponent on a sequence of cards, higher or lower.  The red and blue teams battled for supremacy, their fates hanging on each daring prediction.  Though iterations have tweaked the rules, the core gamble – a high-stakes game of chance and intuition – remains, making Card Sharks a timeless television classic, even with its less successful 2001 reboot.\"}"
      ]
     },
     "execution_count": 68,
     "metadata": {},
     "output_type": "execute_result"
    }
   ],
   "source": [
    "generate_synthetic_data(df['text'].iloc[0])"
   ]
  },
  {
   "cell_type": "markdown",
   "id": "5724f190-98bc-421e-90f9-d0f4fd63773b",
   "metadata": {},
   "source": [
    "# Part 2"
   ]
  },
  {
   "cell_type": "markdown",
   "id": "519883ce-cce2-4216-a035-97afbaadee71",
   "metadata": {},
   "source": [
    "# Loading the tokenizer"
   ]
  },
  {
   "cell_type": "code",
   "execution_count": 69,
   "id": "761e35aa-29ae-4673-8e2c-7d53de7b766d",
   "metadata": {},
   "outputs": [],
   "source": [
    "from transformers import PreTrainedTokenizerFast\n",
    "\n",
    "enc = PreTrainedTokenizerFast.from_pretrained('./dev/data/simple_english.parquet/custom_tokenizer')"
   ]
  },
  {
   "cell_type": "code",
   "execution_count": null,
   "id": "9c070555-71e9-47c9-bea5-27001a0efd0c",
   "metadata": {},
   "outputs": [],
   "source": []
  },
  {
   "cell_type": "code",
   "execution_count": null,
   "id": "e8adbfec-eceb-430e-8175-06a4e46ac158",
   "metadata": {},
   "outputs": [],
   "source": []
  },
  {
   "cell_type": "code",
   "execution_count": null,
   "id": "1b1e04b7-845f-47a1-b56d-b3b54507d758",
   "metadata": {},
   "outputs": [],
   "source": []
  },
  {
   "cell_type": "code",
   "execution_count": 71,
   "id": "c9393505-0cbf-4f4b-b893-b638982bd25d",
   "metadata": {},
   "outputs": [],
   "source": [
    "with open('./dev/data/simple_english.parquet/simple_english.parquet_custom_train_000041.bin', \"rb\") as f:\n",
    "    # first read the header, which is 256 int32 integers (4 bytes each)\n",
    "    header = np.frombuffer(f.read(256*4), dtype=np.int32)\n",
    "    ntok = header[2] # number of tokens (claimed)\n",
    "    # the rest of it are tokens, stored as uint16\n",
    "    tokens = np.frombuffer(f.read(), dtype=np.uint32)"
   ]
  },
  {
   "cell_type": "code",
   "execution_count": 89,
   "id": "0fa8b1ae-11fb-4f93-9896-edbc6f9c9c82",
   "metadata": {},
   "outputs": [],
   "source": [
    "decoded_text = enc.decode(tokens[100:200]).replace(\" \", \"\").replace(\"Ġ\", \" \").replace(\" ##\", \"\").replace('Ċ','\\n')"
   ]
  },
  {
   "cell_type": "code",
   "execution_count": 90,
   "id": "afc136aa-6cbf-422c-a2e7-87ac30aefa18",
   "metadata": {},
   "outputs": [
    {
     "name": "stdout",
     "output_type": "stream",
     "text": [
      " originated from English speaking countries. It finds seldom use in other metricated Commonwealth Nations.</s></s></s> Shohreh Solati (, born Fatemeh Solati on January 4, 1959, in Tehran) is an Iranian singer. She is among the most active and prolific Iranian female singers. Since the Iranian Revolution, she has continued her music career outside the country.\n",
      "She is divorced with a daughter and lives in Los Angeles, California.</s></s>\n"
     ]
    }
   ],
   "source": [
    "print(decoded_text)"
   ]
  },
  {
   "cell_type": "code",
   "execution_count": null,
   "id": "59e2ed3c-7156-4db7-929e-e99adafdc346",
   "metadata": {},
   "outputs": [],
   "source": []
  }
 ],
 "metadata": {
  "kernelspec": {
   "display_name": "Python 3 (ipykernel)",
   "language": "python",
   "name": "python3"
  },
  "language_info": {
   "codemirror_mode": {
    "name": "ipython",
    "version": 3
   },
   "file_extension": ".py",
   "mimetype": "text/x-python",
   "name": "python",
   "nbconvert_exporter": "python",
   "pygments_lexer": "ipython3",
   "version": "3.10.15"
  }
 },
 "nbformat": 4,
 "nbformat_minor": 5
}
